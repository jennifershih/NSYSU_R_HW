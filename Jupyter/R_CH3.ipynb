{
 "cells": [
  {
   "cell_type": "markdown",
   "metadata": {},
   "source": [
    "建立一個名為X的向量，內容依序為個人姓名、年齡、出生年。"
   ]
  },
  {
   "cell_type": "code",
   "execution_count": null,
   "metadata": {},
   "outputs": [],
   "source": [
    "x = {\n",
    "    \"姓名\": \"Tom\",\n",
    "    \"年齡\": 28,\n",
    "    \"出生年\": 1996\n",
    "}\n",
    "print(x)"
   ]
  },
  {
   "cell_type": "markdown",
   "metadata": {},
   "source": [
    "在X的最後面加上性別，男FALSE、女為TRUE且刪除出生年。"
   ]
  },
  {
   "cell_type": "code",
   "execution_count": null,
   "metadata": {},
   "outputs": [],
   "source": [
    "x[\"性別\"] = True\n",
    "del x[\"出生年\"]\n",
    "print(x)"
   ]
  },
  {
   "cell_type": "markdown",
   "metadata": {},
   "source": [
    "建立一個列表Y，其中包含向量X及興趣，興趣可為單向或向量。"
   ]
  },
  {
   "cell_type": "code",
   "execution_count": null,
   "metadata": {},
   "outputs": [],
   "source": [
    "Y = {**x, \"興趣\": \"swim\"}\n",
    "Z = {**x, \"興趣\":[\"swim\", \"running\", \"cooking\"]}\n",
    "print(Y)\n",
    "print(Z)"
   ]
  },
  {
   "cell_type": "markdown",
   "metadata": {},
   "source": [
    "有一個向量為gender=c(\"boy\",\"girl\",\"boy\")，請將gender轉換為factor型態 並查看有哪些類別。"
   ]
  },
  {
   "cell_type": "code",
   "execution_count": null,
   "metadata": {},
   "outputs": [],
   "source": [
    "import pandas as pd\n",
    "\n",
    "gender = [\"boy\",\"girl\",\"boy\"]\n",
    "\n",
    "# 將列表轉換為 Pandas Categorical 類型\n",
    "A = pd.Categorical(gender)\n",
    "print(A)\n"
   ]
  }
 ],
 "metadata": {
  "kernelspec": {
   "display_name": "Python 3",
   "language": "python",
   "name": "python3"
  },
  "language_info": {
   "codemirror_mode": {
    "name": "ipython",
    "version": 3
   },
   "file_extension": ".py",
   "mimetype": "text/x-python",
   "name": "python",
   "nbconvert_exporter": "python",
   "pygments_lexer": "ipython3",
   "version": "3.10.4"
  }
 },
 "nbformat": 4,
 "nbformat_minor": 2
}

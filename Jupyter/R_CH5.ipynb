{
 "cells": [
  {
   "cell_type": "markdown",
   "metadata": {},
   "source": [
    "請建立一個2列3行的矩陣(擺放6個資料)，將資料”數字7~12”進行以列為主的排列。"
   ]
  },
  {
   "cell_type": "code",
   "execution_count": null,
   "metadata": {},
   "outputs": [],
   "source": [
    "import numpy as np\n",
    "\n",
    "number = np.array([7, 8, 9, 10, 11, 12])\n",
    "result = np.reshape(number, (2, 3))\n",
    "print(result)\n"
   ]
  },
  {
   "cell_type": "markdown",
   "metadata": {},
   "source": [
    "有3個人到了超市買了不同數量的香蕉(以b表示)和蘋果(以a表示):\n",
    "Tom買了5個蘋果和4個香蕉，\n",
    "Mary買了14個蘋果和6個香蕉，\n",
    "Eve買了0個蘋果和0個香蕉(純粹去逛超市的)\n",
    "請建立一個2列3行的矩陣來表示上列的資訊。"
   ]
  },
  {
   "cell_type": "code",
   "execution_count": null,
   "metadata": {},
   "outputs": [],
   "source": [
    "import numpy as np\n",
    "import pandas as pd\n",
    "\n",
    "Tom = np.array([5, 4])\n",
    "Mary = np.array([14, 6])\n",
    "Eve = np.array([0, 0])\n",
    "\n",
    "buy = np.concatenate([Tom, Mary, Eve]).reshape(2, 3)\n",
    "\n",
    "M1 = np.array(buy)\n",
    "M1 = np.reshape(M1, (2, 3))\n",
    "M1 = np.vstack([Tom, Mary, Eve]).T\n",
    "\n",
    "M1_df = pd.DataFrame(M1, index=[\"a\", \"b\"], columns=[\"Tom\", \"Mary\", \"Eve\"])\n",
    "\n",
    "print(M1_df)\n"
   ]
  },
  {
   "cell_type": "markdown",
   "metadata": {},
   "source": [
    "將上列(問題2.)的式子改以3列2行表示。"
   ]
  },
  {
   "cell_type": "code",
   "execution_count": null,
   "metadata": {},
   "outputs": [],
   "source": [
    "M2 = np.array(buy)\n",
    "M2 = np.reshape(M1, (3, 2))\n",
    "M2 = np.vstack([Tom, Mary, Eve]).T\n",
    "\n",
    "M2_df = pd.DataFrame(M2, index=[\"a\", \"b\"], columns=[\"Tom\", \"Mary\", \"Eve\"])\n",
    "\n",
    "print(M2_df)"
   ]
  },
  {
   "cell_type": "markdown",
   "metadata": {},
   "source": [
    "已知向量a(1,2,3,4,5)，向量b(5,4,3,2,1)，請試著用rbind和cbind來結合他們。"
   ]
  },
  {
   "cell_type": "code",
   "execution_count": null,
   "metadata": {},
   "outputs": [],
   "source": [
    "a =  np.array([1, 2, 3, 4, 5])\n",
    "b = np.array([5, 4, 3, 2, 1])\n",
    "\n",
    "# 行绑定\n",
    "rbind_result = np.vstack((a, b))\n",
    "\n",
    "# 列綁定\n",
    "cbind_result = np.column_stack((a, b))\n",
    "\n",
    "print(rbind_result)\n",
    "print(cbind_result)\n"
   ]
  }
 ],
 "metadata": {
  "kernelspec": {
   "display_name": "Python 3",
   "language": "python",
   "name": "python3"
  },
  "language_info": {
   "codemirror_mode": {
    "name": "ipython",
    "version": 3
   },
   "file_extension": ".py",
   "mimetype": "text/x-python",
   "name": "python",
   "nbconvert_exporter": "python",
   "pygments_lexer": "ipython3",
   "version": "3.10.4"
  }
 },
 "nbformat": 4,
 "nbformat_minor": 2
}

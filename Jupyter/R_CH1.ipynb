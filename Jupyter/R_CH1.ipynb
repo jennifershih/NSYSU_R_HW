{
 "cells": [
  {
   "cell_type": "markdown",
   "metadata": {},
   "source": [
    "打印 \"Hello, R!\"\n"
   ]
  },
  {
   "cell_type": "code",
   "execution_count": null,
   "metadata": {},
   "outputs": [],
   "source": [
    "print(\"Hello, R!\")"
   ]
  },
  {
   "cell_type": "markdown",
   "metadata": {},
   "source": [
    "基本運算"
   ]
  },
  {
   "cell_type": "code",
   "execution_count": null,
   "metadata": {},
   "outputs": [],
   "source": [
    "x = 10\n",
    "y = 20\n",
    "z = x+y\n",
    "print(z)"
   ]
  },
  {
   "cell_type": "markdown",
   "metadata": {},
   "source": [
    "使用help功能"
   ]
  },
  {
   "cell_type": "code",
   "execution_count": null,
   "metadata": {},
   "outputs": [],
   "source": [
    "# 加載rpy2魔法命令來使用R功能\n",
    "%load_ext rpy2.ipython\n",
    "\n",
    "# 使用rpy2來查找R中的rnorm的幫助\n",
    "%R help(rnorm)\n",
    "\n",
    "# 或者，使用問號來查找幫助\n",
    "%R ?rnorm"
   ]
  },
  {
   "cell_type": "markdown",
   "metadata": {},
   "source": [
    "刪除變量"
   ]
  },
  {
   "cell_type": "code",
   "execution_count": 5,
   "metadata": {},
   "outputs": [],
   "source": [
    "del x,y\n",
    "del z"
   ]
  },
  {
   "cell_type": "markdown",
   "metadata": {},
   "source": [
    "使用plot()函數繪製圖形"
   ]
  },
  {
   "cell_type": "code",
   "execution_count": null,
   "metadata": {},
   "outputs": [],
   "source": [
    "import pandas as pd\n",
    "import matplotlib.pyplot as plt\n",
    "\n",
    "data = pd.read_csv('data.csv',encoding='unicode_escape')\n",
    "print(data.head())\n",
    "\n",
    "plt.figure(figsize=(10, 6))\n",
    "plt.scatter(data.index, data['height'], color='orange', s=50, alpha=0.7)\n",
    "plt.title(\"Height Distribution\")\n",
    "plt.xlabel(\"Index\")\n",
    "plt.ylabel(\"Height\")\n",
    "plt.grid(True)\n",
    "plt.show()"
   ]
  }
 ],
 "metadata": {
  "kernelspec": {
   "display_name": "Python 3",
   "language": "python",
   "name": "python3"
  },
  "language_info": {
   "codemirror_mode": {
    "name": "ipython",
    "version": 3
   },
   "file_extension": ".py",
   "mimetype": "text/x-python",
   "name": "python",
   "nbconvert_exporter": "python",
   "pygments_lexer": "ipython3",
   "version": "3.10.4"
  }
 },
 "nbformat": 4,
 "nbformat_minor": 2
}

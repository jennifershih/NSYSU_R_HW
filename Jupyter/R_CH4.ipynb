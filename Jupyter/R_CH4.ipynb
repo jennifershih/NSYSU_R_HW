{
 "cells": [
  {
   "cell_type": "code",
   "execution_count": null,
   "metadata": {},
   "outputs": [],
   "source": [
    "import numpy as np\n",
    "import pandas as pd\n",
    "import matplotlib.pyplot as plt\n",
    "\n",
    "# 原始數據\n",
    "data = [-8.8, 1.5, 1.6, 2.2, 2.4, 2.5, 2.8, 2.9, 3.4, 3.6, 3.6,\n",
    "        4.0, 4.1, 4.3, 4.5, 4.9, 5.0, 5.0, 5.2, 5.2, 5.4, 5.4,\n",
    "        5.5, 5.5, 5.9, 6.0, 6.0, 6.0, 6.7, 6.7, 6.7, 6.8, 6.8,\n",
    "        6.8, 7.0, 7.2, 7.3, 7.3, 7.3, 7.7, 8.1, 8.2, 8.3, 8.4,\n",
    "        8.6, 8.6, 8.8, 9.0, 9.1, 9.4, 9.5, 9.5, 9.6, 9.9, 10.0,\n",
    "        10.1, 10.3, 10.6, 10.7, 10.8, 11.2, 11.3, 11.4, 11.5, 11.6, 11.9,\n",
    "        12.0, 12.0, 12.1, 12.2, 12.8, 12.9, 12.9, 13.0, 13.2, 13.2, 13.4,\n",
    "        13.4, 13.4, 13.5, 13.6, 13.9, 14.0, 14.2, 14.5, 15.2, 15.5, 15.5,\n",
    "        15.6, 16.4, 16.4, 16.6, 17.4, 19.2, 24.8, 29.7, 32.0]\n",
    "\n",
    "# 將數據轉換為pandas Series\n",
    "data_series = pd.Series(data)\n",
    "\n",
    "# 計算頻率和邊界\n",
    "bins = np.arange(np.floor(min(data)), np.ceil(max(data)) + 1)\n",
    "frequency, bins = np.histogram(data, bins=bins)\n",
    "cumulative_frequency = np.cumsum(frequency)\n",
    "cumulative_relative_frequency = cumulative_frequency / cumulative_frequency[-1]\n",
    "\n",
    "# 繪製圖表\n",
    "fig, ax1 = plt.subplots(figsize=(12, 6))\n",
    "\n",
    "# 繪製頻率圖\n",
    "ax1.bar(bins[:-1], frequency, width=np.diff(bins), color='blue', alpha=0.7, label='Frequency')\n",
    "ax1.set_xlabel('Value')\n",
    "ax1.set_ylabel('Frequency', color='blue')\n",
    "ax1.tick_params(axis='y', labelcolor='blue')\n",
    "\n",
    "# 創建一個共享x軸的第二個y軸\n",
    "ax2 = ax1.twinx()\n",
    "ax2.plot(bins[:-1], cumulative_relative_frequency, color='red', marker='o', linestyle='-', label='Cumulative Relative Frequency')\n",
    "ax2.set_ylabel('Cumulative Relative Frequency', color='red')\n",
    "ax2.tick_params(axis='y', labelcolor='red')\n",
    "\n",
    "# 顯示圖表\n",
    "plt.title('Frequency and Cumulative Relative Frequency')\n",
    "fig.tight_layout()  # 調整布局以避免標籤被裁剪\n",
    "plt.show()\n"
   ]
  }
 ],
 "metadata": {
  "kernelspec": {
   "display_name": "Python 3",
   "language": "python",
   "name": "python3"
  },
  "language_info": {
   "codemirror_mode": {
    "name": "ipython",
    "version": 3
   },
   "file_extension": ".py",
   "mimetype": "text/x-python",
   "name": "python",
   "nbconvert_exporter": "python",
   "pygments_lexer": "ipython3",
   "version": "3.10.4"
  }
 },
 "nbformat": 4,
 "nbformat_minor": 2
}

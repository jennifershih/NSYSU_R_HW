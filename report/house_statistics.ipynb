{
 "cells": [
  {
   "cell_type": "code",
   "execution_count": 2,
   "metadata": {},
   "outputs": [
    {
     "name": "stdout",
     "output_type": "stream",
     "text": [
      "竹科房價統計: {'Mean': np.float64(12267513.437991722), 'Median': np.float64(10300000.0), 'Standard Deviation': np.float64(10039578.523765102), 'Max': np.int64(364230000), 'Min': np.int64(38500), '25th Percentile': np.float64(7000000.0), '75th Percentile': np.float64(14900000.0)}\n",
      "中科房價統計: {'Mean': np.float64(18255762.15962349), 'Median': np.float64(12600000.0), 'Standard Deviation': np.float64(79377081.63562743), 'Max': np.int64(12050000000), 'Min': np.int64(250000), '25th Percentile': np.float64(7800000.0), '75th Percentile': np.float64(20835000.0)}\n",
      "南科房價統計: {'Mean': np.float64(9971526.28728356), 'Median': np.float64(8620000.0), 'Standard Deviation': np.float64(8338281.666654603), 'Max': np.int64(350000000), 'Min': np.int64(165000), '25th Percentile': np.float64(5900000.0), '75th Percentile': np.float64(12100000.0)}\n"
     ]
    }
   ],
   "source": [
    "import pandas as pd\n",
    "\n",
    "# 讀取數據\n",
    "house_Hsinchu_df = pd.read_csv('/Users/jennifer/Downloads/house_Hsinchu.csv')\n",
    "house_Taichung_df = pd.read_csv('/Users/jennifer/Downloads/house_Taichung.csv')\n",
    "house_Tainan_df = pd.read_csv('/Users/jennifer/Downloads/house_Tainan.csv')\n",
    "\n",
    "# 計算每個廠區的基本統計量\n",
    "def calculate_statistics(df, column):\n",
    "    return {\n",
    "        'Mean': df[column].mean(),\n",
    "        'Median': df[column].median(),\n",
    "        'Standard Deviation': df[column].std(),\n",
    "        'Max': df[column].max(),\n",
    "        'Min': df[column].min(),\n",
    "        '25th Percentile': df[column].quantile(0.25),\n",
    "        '75th Percentile': df[column].quantile(0.75)\n",
    "    }\n",
    "\n",
    "# 分析不同廠區的房價數據\n",
    "tsmc_stats_bk = calculate_statistics(house_Hsinchu_df, '總價元')\n",
    "tsmc_stats_ck = calculate_statistics(house_Taichung_df, '總價元')\n",
    "tsmc_stats_nk = calculate_statistics(house_Tainan_df, '總價元')\n",
    "\n",
    "print('竹科房價統計:', tsmc_stats_bk)\n",
    "print('中科房價統計:', tsmc_stats_ck)\n",
    "print('南科房價統計:', tsmc_stats_nk)\n"
   ]
  }
 ],
 "metadata": {
  "kernelspec": {
   "display_name": "Python (myenv)",
   "language": "python",
   "name": "myenv"
  },
  "language_info": {
   "codemirror_mode": {
    "name": "ipython",
    "version": 3
   },
   "file_extension": ".py",
   "mimetype": "text/x-python",
   "name": "python",
   "nbconvert_exporter": "python",
   "pygments_lexer": "ipython3",
   "version": "3.12.3"
  }
 },
 "nbformat": 4,
 "nbformat_minor": 2
}
